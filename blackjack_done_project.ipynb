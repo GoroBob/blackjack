{
 "cells": [
  {
   "cell_type": "markdown",
   "metadata": {},
   "source": [
    "#Milestone Project 2 - Blackjack Game\n",
    "In this milestone project you will be creating a Complete BlackJack Card Game in Python.\n",
    "\n",
    "Here are the requirements:\n",
    "\n",
    "* You need to create a simple text-based [BlackJack](https://en.wikipedia.org/wiki/Blackjack) game\n",
    "* The game needs to have one player versus an automated dealer.\n",
    "* The player can stand or hit.\n",
    "* The player must be able to pick their betting amount.\n",
    "* You need to keep track of the players total money.\n",
    "* You need to alert the player of wins, losses, or busts, etc...\n",
    "\n",
    "And most importantly:\n",
    "\n",
    "* **You must use OOP and classes in some portion of your game. You can not just use functions in your game. Use classes to help you define the Deck and the Player's hand. There are many right ways to do this, so explore it well!**\n",
    "\n",
    "\n",
    "Feel free to expand this game-try including multiple players. Try adding in Double-Down and card splits! Remember to you are free to use any resources you want and as always:\n",
    "\n",
    "# HAVE FUN!"
   ]
  },
  {
   "cell_type": "markdown",
   "metadata": {},
   "source": [
    "The Blackjack rules and conditions are:\n",
    "- Ther are basically two participants, the Player (P) and the Dealer (D)\n",
    "- Every one had a hand of at least two cards, that should sum less than 21, if more it burst (strongly conditioning to lost)\n",
    "- The player can hit (recieve another card) or stand (stop ading cards)\n",
    "- The dealer always should accept cards until it gets 17 or more\n",
    "- the ace could value 1 or 11.\n",
    "- Ending conditions: \n",
    "  - to be under 21 and the other burst\n",
    "  - to be under 21, but closer than the other to 21\n",
    "  - to get 21 while the other not\n",
    "  - if they both have the same sum, ii is called \"push\""
   ]
  },
  {
   "cell_type": "markdown",
   "metadata": {},
   "source": [
    "Steps:\n",
    "    - To make a collections of cards in the four suits.\n",
    "        -Make the card picker, that choose aleatory a card taking it out of the future possible outputs.\n",
    "    - Make the dealer evaluator, that will say of the dealer can go on, or keep stand\n",
    "    - Make the Game Evaluator to know if the game is over, and who won, or if they push.\n",
    "    - Make the whole algorithm"
   ]
  },
  {
   "cell_type": "markdown",
   "metadata": {},
   "source": [
    "Make a class to define the cards aas objects"
   ]
  },
  {
   "cell_type": "code",
   "execution_count": 22,
   "metadata": {
    "collapsed": false
   },
   "outputs": [],
   "source": [
    "# make the card's deck as classes\n",
    "class Card(object):\n",
    "    # I need to know what card is, including the suit, the value for the game\n",
    "    # and if have been already taken in the game, if it's available\n",
    "    def __init__(self, name, suit, value, state='y'):\n",
    "        self.name=name\n",
    "        self.suit=suit\n",
    "        self.value=value\n",
    "        self.state=state\n",
    "        # name= the number or name of the card \n",
    "        # suit= if clovers, diamonds or other\n",
    "        # value= the assigned value of the card, sometimes \n",
    "        # different than the name\n",
    "        # state= to know if the card it's still available in the deck or taken"
   ]
  },
  {
   "cell_type": "markdown",
   "metadata": {},
   "source": [
    "Create the Deck from an empty list, to which i asign objects from the class i propose before with the attributes i need: name, suit, value, state or availability"
   ]
  },
  {
   "cell_type": "code",
   "execution_count": 23,
   "metadata": {
    "collapsed": false
   },
   "outputs": [],
   "source": [
    "def deck_maker():\n",
    "    deck=[None]*52\n",
    "    val=((1,11),2,3,4,5,6,7,8,9,10,10,10,10)\n",
    "    suits=('hearts','tiles','clovers','pikes')\n",
    "    names=('A',2,3,4,5,6,7,8,9,10,'J','Q','K')\n",
    "\n",
    "    for i in range(4):\n",
    "        for j in range(13):\n",
    "            deck[13*i+j]=Card(name=names[j],suit=suits[i],value=val[j])\n",
    "    return(deck)"
   ]
  },
  {
   "cell_type": "markdown",
   "metadata": {},
   "source": [
    "This is the card picker function, shoul choose the card from the deck, changing the state of the card to 'n' to avoid using it again"
   ]
  },
  {
   "cell_type": "code",
   "execution_count": 24,
   "metadata": {
    "collapsed": false
   },
   "outputs": [],
   "source": [
    "import random\n",
    "\n",
    "def card_picker(lst):\n",
    "    num=0\n",
    "    while True:\n",
    "        guess=random.randint(0,51)\n",
    "        if lst[guess].state=='y':\n",
    "            lst[guess].state='n'\n",
    "            return (guess)\n",
    "            break\n",
    "        else:\n",
    "            num+=1\n",
    "            if num>=52:\n",
    "                print(\"Cards' deck is over\")\n",
    "                break\n",
    "            "
   ]
  },
  {
   "cell_type": "code",
   "execution_count": 25,
   "metadata": {
    "collapsed": false
   },
   "outputs": [],
   "source": [
    "#This function allows me to rearrange the deck to initiate another game\n",
    "def renew_deck(lst):\n",
    "    for i in range(52):\n",
    "        lst[i].state='y'\n",
    "    "
   ]
  },
  {
   "cell_type": "markdown",
   "metadata": {},
   "source": [
    "Make a class of objects to describe the player and the dealer; with attibutes of the sum they have, the state (playing, burst, stand), the amount of aces and the role (player or dealer)"
   ]
  },
  {
   "cell_type": "code",
   "execution_count": 26,
   "metadata": {
    "collapsed": false
   },
   "outputs": [],
   "source": [
    "class People(object):\n",
    "    def __init__(self,kind,name,amount=[0],state='playing',aces=0):\n",
    "        self.name=name\n",
    "        self.amount=amount\n",
    "        self.state=state\n",
    "        self.aces=aces\n",
    "        self.kind=kind\n",
    "        # name of the person\n",
    "        # amount gained throught the game, initially 0 in a list, \n",
    "        #    because of the aces could be several of such an amounts\n",
    "        # state, if playng, stand or burst\n",
    "        # quantity of aces in power of the person\n",
    "        # to know if it's a player or a dealer\n",
    "        \n",
    "    #should be two kinds  'p' or 'd' -- 'player' or 'dealer'\n",
    "    \n",
    "    #the addition function shoul output a list with the values, \n",
    "    #considering specially if there are aces inside\n",
    "    \n",
    "    def adding(self,card):\n",
    "        if card.name=='A':\n",
    "            lst=[i+1 for i in self.amount]+[(self.amount[-1]+11)]\n",
    "        else:\n",
    "            lst=[i+card.value for i in self.amount]\n",
    "        self.amount=lst   \n",
    "    \n",
    "    def best(self):\n",
    "        return max([-1 if i>21 else i for i in self.amount])\n",
    "        #choose the best value in the play of the gamer, <21, but closest\n",
    "        \n",
    "    "
   ]
  },
  {
   "cell_type": "markdown",
   "metadata": {},
   "source": [
    "Fucntion to evaluate the state of the player ( burst or playing) and the dealer ( burst, stand or playing)"
   ]
  },
  {
   "cell_type": "code",
   "execution_count": 59,
   "metadata": {
    "collapsed": true
   },
   "outputs": [],
   "source": [
    "def eva(x_person):\n",
    "    if x_person.kind=='d':\n",
    "        if min(x_person.amount)>21:\n",
    "            x_person.state='burst'\n",
    "        elif x_person.best==21:\n",
    "            x_person.state='stand'\n",
    "        elif min(x_person.amount)>=17:\n",
    "            x_person.state='stand'\n",
    "    elif x_person.kind=='p':\n",
    "        if x_person.best==21:\n",
    "            x_person.state='stand'\n",
    "        elif min(x_person.amount)>21:\n",
    "            x_person.state='burst'\n",
    "    "
   ]
  },
  {
   "cell_type": "markdown",
   "metadata": {},
   "source": [
    "Function to figure out the output of the game. Who win, who lost, if push, of if both lost"
   ]
  },
  {
   "cell_type": "code",
   "execution_count": 85,
   "metadata": {
    "collapsed": false
   },
   "outputs": [],
   "source": [
    "def end(person1,person2):\n",
    "    if person1.state==person2.state=='burst':\n",
    "        print('Game over, both lost')\n",
    "        return('s8UsS3hL$f@JA{]Z')\n",
    "    elif person1.state=='burst':\n",
    "        print('The winner is ', person2.name)\n",
    "        return('s8UsS3hL$f@JA{]Z')\n",
    "    elif person2.state=='burst':\n",
    "        print('The winner is ', person1.name)\n",
    "        return('s8UsS3hL$f@JA{]Z')\n",
    "    elif person1.state==person2.state=='stand':\n",
    "        b1=person1.best()\n",
    "        b2=person2.best()\n",
    "        if b1>b2:\n",
    "            print('The winner is ', person1.name)\n",
    "            return('s8UsS3hL$f@JA{]Z')\n",
    "        elif b1<b2:\n",
    "            print('The winner is ', person2.name)\n",
    "            return('s8UsS3hL$f@JA{]Z')\n",
    "        elif b1==b2:\n",
    "            print('Push, no winner')\n",
    "            return('s8UsS3hL$f@JA{]Z')\n",
    "    else:\n",
    "        return('gX&9;-^5<Ze$QT#L')\n",
    "        \n",
    "    "
   ]
  },
  {
   "cell_type": "code",
   "execution_count": 93,
   "metadata": {
    "collapsed": false
   },
   "outputs": [],
   "source": [
    "from IPython.display import clear_output\n",
    "def BlackJack():\n",
    "    print('Welcome to the BlackJack table!')\n",
    "    name1=input('Write down the name of the player: ')\n",
    "    name2=input('Write down the name of the dealer: ')\n",
    "    player=People(kind='p',name=name1,amount=[0],state='playing',aces=0)\n",
    "    dealer=People(kind='d',name=name2,amount=[0],state='playing',aces=0)\n",
    "    p_hand=[]\n",
    "    d_hand=[]\n",
    "    deck=deck_maker()\n",
    "    for i in range(2):\n",
    "        c_num=card_picker(deck)\n",
    "        p_hand+=[c_num]\n",
    "        player.adding(deck[c_num])\n",
    "        print('Player amount',player.amount)\n",
    "    \n",
    "        c_num=card_picker(deck)\n",
    "        d_hand+=[c_num]\n",
    "        dealer.adding(deck[c_num])\n",
    "        print('Dealer amount',dealer.amount)\n",
    "        \n",
    "        # Need to show what cards hold every player\n",
    "    person1=player\n",
    "    person2=dealer\n",
    "    if (person1.best==person2.best==21):\n",
    "        print('BlackJack for both')\n",
    "    elif person1.best==21:\n",
    "        print('BlackJack!!!, winner ', person1.name)\n",
    "    elif person2.best==21:\n",
    "        print('BlackJack!!!, winner ', person2.name)\n",
    "    else:\n",
    "        var='gX&9;-^5<Ze$QT#L'\n",
    "        while var=='gX&9;-^5<Ze$QT#L':\n",
    "            \n",
    "            while True:\n",
    "                ans=input('The player hit or stand (h/s)')\n",
    "                if ans=='h' or ans=='s':\n",
    "                    break\n",
    "                else:\n",
    "                    print('Wrong input, try again!')\n",
    "            if ans=='h':\n",
    "                c_num=card_picker(deck)\n",
    "                p_hand+=[c_num]\n",
    "                player.adding(deck[c_num])\n",
    "            else:\n",
    "                player.state='stand'\n",
    "    \n",
    "            if dealer.state=='playing':\n",
    "                c_num=card_picker(deck)\n",
    "                d_hand+=[c_num]\n",
    "                dealer.adding(deck[c_num])\n",
    "            clear_output()\n",
    "            print('Player amount',player.amount)\n",
    "            print('Dealer amount',dealer.amount)\n",
    "            eva(player)\n",
    "            eva(dealer)\n",
    "            var=end(player,dealer)\n",
    "    "
   ]
  },
  {
   "cell_type": "code",
   "execution_count": 95,
   "metadata": {
    "collapsed": false
   },
   "outputs": [
    {
     "name": "stdout",
     "output_type": "stream",
     "text": [
      "Player amount [15]\n",
      "Dealer amount [23]\n",
      "The winner is  ko\n"
     ]
    }
   ],
   "source": [
    "BlackJack()"
   ]
  },
  {
   "cell_type": "code",
   "execution_count": 98,
   "metadata": {
    "collapsed": false
   },
   "outputs": [],
   "source": [
    "def BlackJack_auto():\n",
    "    print('Welcome to the BlackJack table!')\n",
    "    player=People(kind='p',name='Cow',amount=[0],state='playing',aces=0)\n",
    "    dealer=People(kind='d',name='Milker',amount=[0],state='playing',aces=0)\n",
    "    p_hand=[]\n",
    "    d_hand=[]\n",
    "    deck=deck_maker()\n",
    "    for i in range(2):\n",
    "        c_num=card_picker(deck)\n",
    "        p_hand+=[c_num]\n",
    "        player.adding(deck[c_num])\n",
    "    \n",
    "        c_num=card_picker(deck)\n",
    "        d_hand+=[c_num]\n",
    "        dealer.adding(deck[c_num])\n",
    "        \n",
    "        # Need to show what cards hold every player\n",
    "    person1=player\n",
    "    person2=dealer\n",
    "    if (person1.best==person2.best==21):\n",
    "        print('BlackJack for both')\n",
    "    elif person1.best==21:\n",
    "        print('BlackJack!!!, winner ', person1.name)\n",
    "    elif person2.best==21:\n",
    "        print('BlackJack!!!, winner ', person2.name)\n",
    "    else:\n",
    "        var='gX&9;-^5<Ze$QT#L'\n",
    "        while var=='gX&9;-^5<Ze$QT#L':\n",
    "            \n",
    "            while True:\n",
    "                ans='h'\n",
    "                if ans=='h' or ans=='s':\n",
    "                    break\n",
    "                else:\n",
    "                    print('Wrong input, try again!')\n",
    "            if ans=='h':\n",
    "                c_num=card_picker(deck)\n",
    "                p_hand+=[c_num]\n",
    "                player.adding(deck[c_num])\n",
    "            else:\n",
    "                player.state='stand'\n",
    "    \n",
    "            if dealer.state=='playing':\n",
    "                c_num=card_picker(deck)\n",
    "                d_hand+=[c_num]\n",
    "                dealer.adding(deck[c_num])\n",
    "            eva(player)\n",
    "            eva(dealer)\n",
    "            var=end(player,dealer)\n",
    "    print('Player amount',player.amount)\n",
    "    print('Dealer amount',dealer.amount)"
   ]
  },
  {
   "cell_type": "code",
   "execution_count": 100,
   "metadata": {
    "collapsed": false
   },
   "outputs": [
    {
     "name": "stdout",
     "output_type": "stream",
     "text": [
      "Welcome to the BlackJack table!\n",
      "The winner is  Milker\n",
      "Player amount [22, 32]\n",
      "Dealer amount [21, 31]\n",
      "Welcome to the BlackJack table!\n",
      "The winner is  Milker\n",
      "Player amount [23, 33, 43]\n",
      "Dealer amount [19]\n",
      "Welcome to the BlackJack table!\n",
      "The winner is  Milker\n",
      "Player amount [24]\n",
      "Dealer amount [17]\n",
      "Welcome to the BlackJack table!\n",
      "The winner is  Milker\n",
      "Player amount [29, 39]\n",
      "Dealer amount [20]\n",
      "Welcome to the BlackJack table!\n",
      "The winner is  Milker\n",
      "Player amount [29]\n",
      "Dealer amount [18, 28]\n",
      "Welcome to the BlackJack table!\n",
      "The winner is  Milker\n",
      "Player amount [28]\n",
      "Dealer amount [9, 19, 29]\n",
      "Welcome to the BlackJack table!\n",
      "The winner is  Milker\n",
      "Player amount [25]\n",
      "Dealer amount [17]\n",
      "Welcome to the BlackJack table!\n",
      "The winner is  Cow\n",
      "Player amount [6, 16, 26]\n",
      "Dealer amount [29]\n",
      "Welcome to the BlackJack table!\n",
      "The winner is  Milker\n",
      "Player amount [25]\n",
      "Dealer amount [21]\n",
      "Welcome to the BlackJack table!\n",
      "Game over, both lost\n",
      "Player amount [23]\n",
      "Dealer amount [22]\n",
      "Welcome to the BlackJack table!\n",
      "Game over, both lost\n",
      "Player amount [23]\n",
      "Dealer amount [22]\n",
      "Welcome to the BlackJack table!\n",
      "The winner is  Milker\n",
      "Player amount [22]\n",
      "Dealer amount [18, 28]\n",
      "Welcome to the BlackJack table!\n",
      "The winner is  Cow\n",
      "Player amount [20]\n",
      "Dealer amount [24, 34]\n",
      "Welcome to the BlackJack table!\n",
      "The winner is  Cow\n",
      "Player amount [9, 19]\n",
      "Dealer amount [25]\n",
      "Welcome to the BlackJack table!\n",
      "The winner is  Cow\n",
      "Player amount [21, 31]\n",
      "Dealer amount [22]\n"
     ]
    }
   ],
   "source": [
    "for i in range(15):\n",
    "    BlackJack_auto()"
   ]
  },
  {
   "cell_type": "markdown",
   "metadata": {},
   "source": [
    "Done, i've succed with this problem!\n",
    "\n",
    "HAPPY!!"
   ]
  },
  {
   "cell_type": "code",
   "execution_count": null,
   "metadata": {
    "collapsed": true
   },
   "outputs": [],
   "source": []
  }
 ],
 "metadata": {
  "kernelspec": {
   "display_name": "Python 3",
   "language": "python",
   "name": "python3"
  },
  "language_info": {
   "codemirror_mode": {
    "name": "ipython",
    "version": 3
   },
   "file_extension": ".py",
   "mimetype": "text/x-python",
   "name": "python",
   "nbconvert_exporter": "python",
   "pygments_lexer": "ipython3",
   "version": "3.5.3"
  }
 },
 "nbformat": 4,
 "nbformat_minor": 0
}
